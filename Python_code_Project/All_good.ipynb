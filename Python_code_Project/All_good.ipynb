{
 "cells": [
  {
   "cell_type": "markdown",
   "source": [
    "# Imports\n"
   ],
   "metadata": {
    "collapsed": false,
    "pycharm": {
     "name": "#%% md\n"
    }
   }
  },
  {
   "cell_type": "code",
   "execution_count": 1,
   "metadata": {
    "pycharm": {
     "name": "#%%\n"
    }
   },
   "outputs": [],
   "source": [
    "import math\n",
    "import os\n",
    "import numpy as np\n",
    "import sys\n",
    "import matplotlib.pyplot as plt\n",
    "import scipy.fft as fourier\n",
    "import pyspike as spk\n",
    "import scipy.io as sio\n",
    "import pandas\n",
    "import matlab.engine\n",
    "import cv2 as cv\n",
    "import math\n",
    "from numba import njit, prange\n",
    "import torch as t\n",
    "import torch.nn as nn\n",
    "import torch.nn.functional as F\n",
    "import torch.optim as optim\n",
    "from scipy.stats import pearsonr\n",
    "from scipy.optimize import curve_fit\n",
    "import antropy as ent\n",
    "import sklearn.metrics as metrics\n",
    "import random"
   ]
  },
  {
   "cell_type": "code",
   "execution_count": 2,
   "outputs": [],
   "source": [
    "matlab_needed=False\n",
    "if matlab_needed:\n",
    "    sessions=matlab.engine.find_matlab()\n",
    "    engine=[]\n",
    "    if len(sessions)==0:\n",
    "        engine=matlab.engine.start_matlab()\n",
    "    else:\n",
    "        engine=matlab.engine.connect_matlab(sessions[-1])\n",
    "    engine.addpath('D:\\\\OneDrive - Indian Institute of Science\\\\5th Sem\\\\Summer project\\\\natural_images_code\\\\NaturalImagesGammaProject\\\\programs',nargout=0)"
   ],
   "metadata": {
    "collapsed": false,
    "pycharm": {
     "name": "#%%\n"
    }
   }
  },
  {
   "cell_type": "markdown",
   "metadata": {
    "pycharm": {
     "name": "#%% md\n"
    }
   },
   "source": [
    "# Loader functions"
   ]
  },
  {
   "cell_type": "code",
   "execution_count": 3,
   "metadata": {
    "pycharm": {
     "name": "#%%\n"
    }
   },
   "outputs": [],
   "source": [
    "def loadlfpInfo(folderLFP):\n",
    "    x = sio.loadmat(os.path.join(folderLFP, 'lfpInfo.mat'))\n",
    "    analogChannelsStored = np.squeeze(x[\"analogChannelsStored\"])-1\n",
    "    goodStimPos = np.squeeze(x[\"goodStimPos\"])-1\n",
    "    timeVals = np.squeeze(x[\"timeVals\"])\n",
    "    analogInputNums = []\n",
    "    if 'analogInputNums' in x:\n",
    "        analogInputNums = np.squeeze(x[\"analogInputNums\"])\n",
    "    return [analogChannelsStored, timeVals, goodStimPos, analogInputNums]\n",
    "\n",
    "\n",
    "def loadspikeInfo(folderSpikes):\n",
    "    fileName = os.path.join(folderSpikes, 'spikeInfo.mat')\n",
    "    try:\n",
    "        x = sio.loadmat(fileName)\n",
    "        return [np.squeeze(x[\"neuralChannelsStored\"]-1), np.squeeze(x[\"SourceUnitID\"])]\n",
    "    except FileNotFoundError:\n",
    "        print('No spikeInfo.mat found in', folderSpikes)\n",
    "        return [[], []]\n",
    "\n",
    "def loadParameterCombinations(folderExtract=None):\n",
    "    p = sio.loadmat(os.path.join(folderExtract, 'parameterCombinations.mat'))\n",
    "    # subtract one from indices bcos matlab->python\n",
    "    p[\"parameterCombinations\"] = p[\"parameterCombinations\"] - 1\n",
    "    p[\"fValsUnique\"] = p[\"fValsUnique\"] - 1\n",
    "    if 'sValsUnique' not in p:\n",
    "        p['sValsUnique'] = p[\"rValsUnique\"] / 3\n",
    "    if 'cValsUnique' not in p:\n",
    "        p['cValsUnique'] = 100\n",
    "    if 'tValsUnique' not in p:\n",
    "        p['tValsUnique'] = 0\n",
    "    return p\n",
    "\n",
    "\n",
    "def change_reference(analogData,folderLFP, referenceChannelString=None):\n",
    "    if referenceChannelString is not None:\n",
    "        if referenceChannelString == 'AvgRef':\n",
    "            print('Changing to average reference')\n",
    "            return analogData-np.squeeze(sio.loadmat(os.path.join(folderLFP, 'AvgRef.mat'))[\"analogData\"])\n",
    "        else:\n",
    "            print('Changing to bipolar reference')\n",
    "            return analogData- np.squeeze(sio.loadmat(os.path.join(folderLFP, referenceChannelString))[\"analogData\"])\n",
    "    return analogData\n",
    "\n",
    "\n",
    "def get_bad_trials(badTrialFileName=None, useCommonBadTrialsFlag=True, channelString=None):\n",
    "    badTrials = []\n",
    "    allBadTrials = []\n",
    "\n",
    "    if os.path.isfile(badTrialFileName):\n",
    "        x = sio.loadmat(badTrialFileName)\n",
    "        badTrials = np.squeeze(x[\"badTrials\"])-1\n",
    "        if \"allBadTrials\" in x:\n",
    "            allBadTrials = np.squeeze(x[\"allBadTrials\"])-1\n",
    "        else:\n",
    "            allBadTrials = badTrials\n",
    "\n",
    "    if not useCommonBadTrialsFlag:\n",
    "        badTrials = allBadTrials[channelString[5:]]-1\n",
    "    print(str(len(badTrials)), ' bad trials')\n",
    "\n",
    "    return badTrials, allBadTrials\n"
   ]
  },
  {
   "cell_type": "code",
   "execution_count": 4,
   "outputs": [],
   "source": [
    "subjectName = \"alpaH\"\n",
    "expDate = \"240817\"\n",
    "protocolName = \"GRF_002\"\n",
    "imageFolderName ='ImagesTL'\n",
    "folderSourceString = 'D:\\\\OneDrive - Indian Institute of Science\\\\5th Sem\\\\Summer project\\\\natural_images_code\\\\NaturalImagesGammaProject'\n",
    "gridType=\"Microelectrode\"\n",
    "gridLayout=2,\n",
    "badTrialNameStr=''\n",
    "\n",
    "\n",
    "# get the folder names\n",
    "folderName = os.path.join(folderSourceString, 'data', subjectName, gridType, expDate, protocolName)\n",
    "folderExtract = os.path.join(folderName, 'extractedData')\n",
    "folderSegment = os.path.join(folderName, 'segmentedData')\n",
    "folderLFP = os.path.join(folderSegment, 'LFP')\n",
    "folderSpikes = os.path.join(folderSegment, 'Spikes')\n",
    "rawImageFolder = os.path.join(folderSourceString,'data','images',imageFolderName)\n",
    "# standardised parameters\n",
    "blRange = np.array([-0.25, 0])\n",
    "stRange = np.array([0.25, 0.5])\n",
    "\n",
    "# load    Spike and LFP    Information\n",
    "[analogChannelsStored, timeVals, goodStimPos, analogInputNums] = loadlfpInfo(folderLFP)\n",
    "[neuralChannelsStored, sourceUnitIDs] = loadspikeInfo(folderSpikes)\n",
    "timeVals_blSt=timeVals[np.logical_and(timeVals>=blRange[0],timeVals<=stRange[-1])]\n",
    "# Get RF details\n",
    "rfData = sio.loadmat(os.path.join(folderSourceString, 'data', 'rfData', subjectName, subjectName + gridType + 'RFData.mat'))\n",
    "# work with only high RMSE electrodes\n",
    "highRMSElectrodes = np.squeeze(rfData['highRMSElectrodes'])-1\n",
    "\n",
    "# work only with sorted units\n",
    "sortedPos = np.argwhere(sourceUnitIDs == 1)\n",
    "sourceUnitIDs = sourceUnitIDs[sortedPos]\n",
    "spikeChannels = np.squeeze(neuralChannelsStored[sortedPos])\n",
    "\n",
    "referenceChannelString = None\n",
    "plotColor = 'k'\n",
    "analogChannels = np.setdiff1d(analogChannelsStored, highRMSElectrodes)\n",
    "#define a commonArgs dictionary for all the plots\n",
    "\n",
    "kwargs={\"folderName\":folderName , \"timeVals\":timeVals, \"plotColor\":plotColor,\n",
    "                    \"blRange\":blRange, \"stRange\":stRange, \"referenceChannelString\":referenceChannelString,\n",
    "                    \"badTrialNameStr\":badTrialNameStr}"
   ],
   "metadata": {
    "collapsed": false,
    "pycharm": {
     "name": "#%%\n"
    }
   }
  },
  {
   "cell_type": "code",
   "execution_count": 5,
   "outputs": [],
   "source": [
    "rfStats =np.squeeze( sio.loadmat(os.path.join(folderSourceString,'data','rfData',subjectName,subjectName +'Microelectrode' +'RFData.mat'))['rfStats'])\n"
   ],
   "metadata": {
    "collapsed": false,
    "pycharm": {
     "name": "#%%\n"
    }
   }
  },
  {
   "cell_type": "markdown",
   "metadata": {
    "pycharm": {
     "name": "#%% md\n"
    }
   },
   "source": [
    "# LFP and Spike stuff"
   ]
  },
  {
   "cell_type": "code",
   "execution_count": 6,
   "metadata": {
    "pycharm": {
     "name": "#%%\n"
    }
   },
   "outputs": [],
   "source": [
    "def plotLFPData1Channel(plotHandles=None, channelString=[], stimulus_list=None, folderName=None, analysisType=None,\n",
    "                        timeVals=None, plotColor=None, blRange=None, stRange=None, referenceChannelString=None,\n",
    "                        badTrialNameStr=None, useCommonBadTrialsFlag=True ,**kwargs):\n",
    "    # first we have to unpack common args\n",
    "\n",
    "\n",
    "    # calculate the sampling frequency\n",
    "\n",
    "    Fs = int(1 / (timeVals[1] - timeVals[0]))\n",
    "    # preliminary checks\n",
    "    if int(np.diff(blRange) * Fs) != int(np.diff(stRange) * Fs):\n",
    "        print('baseline and stimulus ranges are not the same')\n",
    "        if analysisType >= 4:\n",
    "            return\n",
    "    elif analysisType == 2 or analysisType == 3:\n",
    "        print('Use plotSpikeData instead of plotLFPData...')\n",
    "        return\n",
    "\n",
    "    # get folder names\n",
    "    folderExtract = os.path.join(folderName, 'extractedData')\n",
    "    folderSegment = os.path.join(folderName, 'segmentedData')\n",
    "    folderLFP = os.path.join(folderSegment, 'LFP')\n",
    "\n",
    "    numPlots = np.size(stimulus_list, 0)\n",
    "    plot=plotHandles is not None\n",
    "    numElectrodes=len(channelString)\n",
    "\n",
    "    # get the stimulus shown\n",
    "    parameterCombinations = loadParameterCombinations(folderExtract)['parameterCombinations']\n",
    "    signal=np.zeros(numElectrodes,dtype=object)\n",
    "    for i in range(numElectrodes):\n",
    "        # Get Signal\n",
    "        analogData = np.squeeze(sio.loadmat(os.path.join(folderLFP, channelString[i]))[\"analogData\"])\n",
    "        # Change Reference\n",
    "        analogData = change_reference(analogData, folderLFP, referenceChannelString)\n",
    "        signal[i]=analogData\n",
    "    # Get bad trials\n",
    "    badTrialFileName = os.path.join(folderSegment, 'badTrials' + badTrialNameStr + '.mat')\n",
    "    badTrials, allBadTrials = [np.squeeze(i) for i in\n",
    "                               get_bad_trials(badTrialFileName, useCommonBadTrialsFlag, channelString)]\n",
    "    # find baseline period stimulus period etc\n",
    "    rangePos = int(np.diff(blRange) * Fs)\n",
    "    blPos = np.arange(1, rangePos) + np.argmax(timeVals >= blRange[0])\n",
    "    stPos = np.arange(1, rangePos) + np.argmax(timeVals >= stRange[0])\n",
    "    xs = np.arange(0, Fs - 1 / np.diff(blRange), 1 / np.diff(blRange))\n",
    "\n",
    "    '''\n",
    "    Fs = round(1 / (timeVals[2] - timeVals[1]))\n",
    "    movingwin = concat([0.25, 0.025])\n",
    "    params.tapers = copy(concat([1, 1]))\n",
    "    params.pad = copy(- 1)\n",
    "    params.Fs = copy(Fs)\n",
    "    params.fpass = copy(concat([0, 200]))\n",
    "    params.trialave = copy(1)\n",
    "\n",
    "\n",
    "    if analysisType == 9:\n",
    "        clear('goodPos')\n",
    "        goodPos = parameterCombinations[1, 1, 1, dot(2, numPlots) + 1]\n",
    "\n",
    "        goodPos = setdiff(goodPos, badTrials)\n",
    "\n",
    "        S, timeTF = mtspecgramc(analogData(goodPos, arange()).T, movingwin, params, nargout=2)\n",
    "        xValToPlot = timeTF + timeVals(1) - 1 / Fs\n",
    "        blPos = intersect(find(xValToPlot >= blRange(1)), find(xValToPlot < blRange(2)))\n",
    "        logS = log10(S)\n",
    "        blPower = mean(logS(blPos, arange()), 1)\n",
    "        logSBLAllConditions = repmat(blPower, length(xValToPlot), 1)\n",
    "    '''\n",
    "    result=np.zeros((numPlots,numElectrodes),dtype=object)\n",
    "    if analysisType==6:\n",
    "        result=np.zeros((numPlots,numElectrodes,3,499))\n",
    "\n",
    "    for i in range( numPlots):\n",
    "        # get the good trials for each stimulus by removing the bad trials\n",
    "        goodPos = np.setdiff1d(parameterCombinations[0, 0, 0, stimulus_list[i]], badTrials)\n",
    "        if goodPos is None:\n",
    "            print('No entries for this combination..')\n",
    "            continue\n",
    "        for j,electrode in enumerate(channelNumber):\n",
    "            print('image', str(stimulus_list[i]), ', n=', str(electrode))\n",
    "            analogData=signal[j]\n",
    "            if analysisType == 1:\n",
    "                # plot the Evoke response i.e LFP vs time\n",
    "                erp = np.mean(analogData[goodPos], 0)\n",
    "                if plot:\n",
    "                    plotHandles[i].plot(timeVals, erp, 'color', plotColor)\n",
    "                result[i][j]=[erp]\n",
    "\n",
    "\n",
    "            elif analysisType == 4 or analysisType == 5:\n",
    "                # plot the mean of FFT of trials\n",
    "                fftBL = abs(fourier.fft(analogData[goodPos][:,blPos], axis=1))\n",
    "                fftST = abs(fourier.fft(analogData[goodPos][:,stPos], axis=1))\n",
    "                fVals = np.fft.fftfreq(len(fftBL), 1 / Fs)\n",
    "                if plot and analysisType == 4:\n",
    "                    plotHandles[i].plot(xs, np.log10(np.mean(fftBL,axis=0)), color= 'k')\n",
    "                    plotHandles[i].plot(xs, np.log10(np.mean(fftST,axis=0)), color= plotColor)\n",
    "                    plotHandles[i].set_xlim(0,len(xs/2))\n",
    "\n",
    "                elif plot:\n",
    "                    plotHandles[i].plot(xs, 10 * (np.log10(np.mean(fftST,axis=0)) - np.log10(np.mean(fftBL,axis=0))), 'color', plotColor)\n",
    "                    plotHandles[i].plot(xs, np.zeros(1, len(xs)), 'color', 'k')\n",
    "                    plotHandles[i].set_xlim(0,len(xs/2))\n",
    "\n",
    "                result[i][j]=np.array([fftBL, fftST, fVals])\n",
    "\n",
    "            elif analysisType == 6 or analysisType == 7:\n",
    "                # plot the FFT of mean of trials\n",
    "                fftERPBL = abs(fourier.fft(np.mean(analogData[goodPos][:,blPos],axis=0), axis=0))\n",
    "                fftERPST = abs(fourier.fft(np.mean(analogData[goodPos][:,stPos],axis=0), axis=0))\n",
    "                fVals = np.fft.fftfreq(len(fftERPBL), 1 / Fs)\n",
    "                if plot and analysisType == 6:\n",
    "                    plotHandles[i].plot(xs, np.log10(fftERPBL), color= 'g')\n",
    "                    plotHandles[i].plot(xs, np.log10(fftERPST), color='k')\n",
    "                    plotHandles[i].set_xlim(0,len(xs/2))\n",
    "\n",
    "                elif plot:\n",
    "                    plotHandles[i].plot(xs, 10 * (np.log10(fftERPST) - np.log10(fftERPBL)), color= plotColor)\n",
    "                    plotHandles[i].plot(xs, np.zeros(1, len(xs)), color='k')\n",
    "                    plotHandles[i].set_xlim(0, len(xs / 2))\n",
    "\n",
    "                result[i][j]=np.array([fftERPBL,fftERPST,fVals])\n",
    "            '''elif (analysisType == 8):\n",
    "\n",
    "                plotHandles[i].colormap('jet')\n",
    "                S, timeTF, freqTF = mtspecgramc(analogData(goodPos, arange()).T, movingwin, params,\n",
    "                                                nargout=3)\n",
    "                xValToPlot = timeTF + timeVals(1) - 1 / Fs\n",
    "                pcolor(plotHandles(i), xValToPlot, freqTF, log10(S.T))\n",
    "                shading(plotHandles(i), 'interp')\n",
    "            elif analysisType==9:\n",
    "                colormap('jet')\n",
    "                S, timeTF, freqTF = mtspecgramc(analogData(goodPos, arange()).T, movingwin, params,\n",
    "                                                nargout=3)\n",
    "                xValToPlot = timeTF + timeVals(1) - 1 / Fs\n",
    "                blPos = intersect(find(xValToPlot >= blRange(1)), find(xValToPlot < blRange(2)))\n",
    "                logS = log10(S)\n",
    "                pcolor(plotHandles(i), xValToPlot, freqTF, dot(10, (logS - logSBLAllConditions).T))\n",
    "                # logSBL = repmat(blPower,length(xValToPlot),1);\n",
    "                # pcolor(plotHandles(i),xValToPlot,freqTF,10*(logS-logSBL)');\n",
    "                shading(plotHandles(i), 'interp')'''\n",
    "\n",
    "    return np.array(result)"
   ]
  },
  {
   "cell_type": "code",
   "execution_count": 7,
   "outputs": [],
   "source": [
    "def custom_concat(array1):\n",
    "    size=int(0)\n",
    "    for i in array1:\n",
    "        size+=i.size\n",
    "    result=np.zeros(size,dtype=np.float64)\n",
    "    index=int(0)\n",
    "    for i in range(len(array1)):\n",
    "        for j in range(len(array1[i])):\n",
    "            result[index]=array1[i][j]\n",
    "            index+=1\n",
    "    return result\n",
    "\n",
    "def get_spike_data(folderSpikes,channelNumber, unitID):\n",
    "    return np.squeeze(sio.loadmat(os.path.join(folderSpikes, 'elec' + str(channelNumber+1) + '_SID' + str(unitID) + '.mat'))[\n",
    "        \"spikeData\"])\n",
    "\n",
    "def getPSTH_forp(X,tRange,d=0.001,Ntrials=1,smoothSigmaMs=None):\n",
    "    if d>=1:\n",
    "        d=d/1000\n",
    "\n",
    "    spk = np.sort(X)\n",
    "\n",
    "    #select only those values which lie between tRange[0] and tRange[-1]\n",
    "\n",
    "    ind1 = np.argwhere(spk>=tRange[0])[0][0]\n",
    "    ind2 = -1\n",
    "    try:\n",
    "        ind2=np.argwhere(spk>=tRange[-1])[0][0]\n",
    "    except:\n",
    "        pass\n",
    "    spk = spk[ind1:ind2]\n",
    "    N = int((tRange[-1] - tRange[0]) / d)\n",
    "    H=np.histogram(spk,bins=N,range=tRange)[0]\n",
    "    timeVals = np.linspace(tRange[0] + d / 2, tRange[-1] - d / 2, num=N)\n",
    "    # compute the PSTH\n",
    "    psth=H/d/Ntrials\n",
    "    # smooth the PSTH if requested\n",
    "    return psth,timeVals\n",
    "\n",
    "def plotSpikeData1Channel(plotHandles=None, channelNumber=None, stimulus_list=None, folderName=None, analysisType=None,\n",
    "                          timeVals=None, plotColor='g', unitID=None,badTrialNameStr=\"\", plot=False,bin_time=50):\n",
    "    # plots the data for a single channel\n",
    "    if unitID is None:\n",
    "        unitID=np.ones(len(channelNumber),dtype=int)\n",
    "    # get folder names\n",
    "    folderExtract = os.path.join(folderName, 'extractedData')\n",
    "    folderSegment = os.path.join(folderName, 'segmentedData')\n",
    "    folderSpikes = os.path.join(folderSegment, 'Spikes')\n",
    "    numPlots=len(stimulus_list)\n",
    "    return_value=np.zeros((numPlots,len(channelNumber),2,int(((timeVals[-1]-timeVals[0])*1000)/bin_time)))\n",
    "    # get the stimuli\n",
    "    parameterCombinations = loadParameterCombinations(folderExtract)['parameterCombinations']\n",
    "    badTrialFileName = os.path.join(folderSegment\n",
    "                                    , 'badTrials' + badTrialNameStr + '.mat')\n",
    "    badTrials, allBadTrials = [np.squeeze(i) for i in\n",
    "                               get_bad_trials(badTrialFileName)]\n",
    "    # get the spike data\n",
    "    spikeData = {i:get_spike_data(folderSpikes,channelNumber[i],unitID[i]) for i in range(len(channelNumber))}\n",
    "\n",
    "    for i in range(numPlots):\n",
    "        goodPos = np.squeeze(np.setdiff1d(parameterCombinations[0, 0, 0, stimulus_list[i]], badTrials))\n",
    "        Ntrials= len(goodPos)\n",
    "        for j,electrode in enumerate(channelNumber):\n",
    "            # get the good trials for each stimulus by removing the bad trials\n",
    "            data=custom_concat(spikeData[j][goodPos])\n",
    "            if goodPos is None:\n",
    "                print('No entries for this combination..')\n",
    "                continue\n",
    "            print('image', str(stimulus_list[i]), ', electrode=', str(electrode))\n",
    "\n",
    "            if analysisType == 2:\n",
    "                return_value[i][j]=getPSTH_forp(data,timeVals,d=bin_time,Ntrials=Ntrials)\n",
    "                if plot:\n",
    "                    pass\n",
    "            elif analysisType == 1:\n",
    "                # Raster Plot\n",
    "                X = spikeData[goodPos]\n",
    "                if plot:\n",
    "                    plotHandles[i].eventplot(X, colors='k')\n",
    "                return X\n",
    "    return np.array(return_value)\n",
    "best_electrodes= np.squeeze(np.intersect1d(highRMSElectrodes[:-3],spikeChannels))\n",
    "best_electrode_names=['elec' + str(i+1) for i in best_electrodes]\n",
    "channelPos_names=[str(i) +\", SID 1\" for i in best_electrodes]\n",
    "channelNumber = best_electrodes\n",
    "stimValsToUse = np.array([i for i in range(32)])"
   ],
   "metadata": {
    "collapsed": false,
    "pycharm": {
     "name": "#%%\n"
    }
   }
  },
  {
   "cell_type": "code",
   "execution_count": 8,
   "metadata": {
    "pycharm": {
     "name": "#%%\n"
    }
   },
   "outputs": [],
   "source": [
    "def plotImageData(hImagesPlot=None, hImagePatches=None, rawImageFolder=\"\", fValsToUse=None, channelNumber=[1],\n",
    "                  colorName='g', plottingDetails=None, rfStats=None,RFtype=None):\n",
    "    plot = hImagesPlot is not None or hImagePatches is not None\n",
    "    patchSizeDeg = 2\n",
    "    data = np.zeros(len(fValsToUse), dtype='object')\n",
    "\n",
    "    for i in range(len(fValsToUse)):\n",
    "        imageFileName = os.path.join(rawImageFolder, 'Image' + str(fValsToUse[i] + 1) + '.png')\n",
    "        if plot:\n",
    "            plottingDetails[\"hImagePlot\"] = hImagesPlot[i]\n",
    "            plottingDetails[\"hImagePatches\"] = hImagePatches[i]\n",
    "            plottingDetails[\"colorNames\"] = colorName\n",
    "            # data.append(getImagePatches(imageFileName,channelNumber,subjectName,'',patchSizeDeg,plottingDetails,nargout=1))\n",
    "        else:\n",
    "            data[i] = getImagePatches_forpython(rfStats, imageFileName, channelNumber, patchSizeDeg,RFtype=RFtype)\n",
    "        if plot:\n",
    "            if i > 1:\n",
    "                hImagesPlot[i].set_xticklabels([])\n",
    "                hImagesPlot[i].set_yticklabels([])\n",
    "            else:\n",
    "                hImagesPlot[i].set_xlabel('Degrees')\n",
    "                hImagesPlot[i].set_ylabel('Degrees')\n",
    "                hImagePatches[i].set_xlabel('Degrees')\n",
    "                hImagePatches[i].set_ylabel('Degrees')\n",
    "    return np.array(data)\n",
    "\n",
    "@njit(parallel=True)\n",
    "def twoDguassian(grid,x_0,y_0,sigma_x,sigma_y,A=1):\n",
    "    for y_pix in prange(grid.shape[0]):\n",
    "        for x_pix in prange(grid.shape[1]):\n",
    "            x = x_pix - x_0\n",
    "            y = y_pix - y_0\n",
    "            grid[y_pix,x_pix] = np.exp(-((x**2)/(2*sigma_x**2) + (y**2)/(2*sigma_y**2)))\n",
    "            if grid[y_pix,x_pix] <0.05:\n",
    "                grid[y_pix,x_pix] = 0\n",
    "\n",
    "@njit(parallel=True)\n",
    "def twoDellipse(grid,x_0,y_0,sigma_x,sigma_y,A=1):\n",
    "    for y_pix in prange(grid.shape[0]):\n",
    "        for x_pix in prange(grid.shape[1]):\n",
    "            x = x_pix - x_0\n",
    "            y = y_pix - y_0\n",
    "            if  (x**2/sigma_x**2 + y**2/sigma_y**2) <= 1:\n",
    "                grid[y_pix,x_pix] = A\n",
    "\n",
    "def getImagePatches_forpython(rfStats, imageFileName, electrodeList, patchSizeDeg=2, viewingDistanceCM=50,\n",
    "                              monitorSpecifications=None,RFtype=None):\n",
    "    numElectrodes = len(electrodeList)\n",
    "    if monitorSpecifications is None:\n",
    "        monitorSpecifications = {\"height\": 11.8, \"width\": 20.9, \"xRes\": 1280, \"yRes\": 720}\n",
    "    # min_x and min_y max_x max_y\n",
    "    inputImage = plt.imread(imageFileName)[:,:,:3]\n",
    "    [xAxisDeg, yAxisDeg] = getImageInDegrees(inputImage, monitorSpecifications, viewingDistanceCM)\n",
    "    xResDeg = xAxisDeg[1] - xAxisDeg[0]\n",
    "    yResDeg = yAxisDeg[1] - yAxisDeg[0]\n",
    "    xPosToTake =int( patchSizeDeg // xResDeg)\n",
    "    yPosToTake = int(patchSizeDeg // yResDeg)\n",
    "    patchData = np.zeros(numElectrodes, dtype='object')\n",
    "    for i in range(numElectrodes):\n",
    "        rfTMP = rfStats[electrodeList[i]]\n",
    "        mAzi = np.squeeze(rfTMP[\"meanAzi\"])\n",
    "        mEle = np.squeeze(rfTMP[\"meanEle\"])\n",
    "        xCenterPos = int(np.argwhere(xAxisDeg >= mAzi)[0][0])\n",
    "        yCenterPos = int(np.argwhere(yAxisDeg >= -mEle)[0][0])\n",
    "\n",
    "        if RFtype==\"ellipse\":\n",
    "            xPosToTake1=np.squeeze(rfTMP[\"rfSizeAzi\"]/xResDeg)\n",
    "            yPosToTake1=np.squeeze(rfTMP[\"rfSizeEle\"]/yResDeg)\n",
    "            mask=np.zeros(shape=inputImage.shape[:-1])\n",
    "            twoDellipse(mask,xCenterPos,yCenterPos,xPosToTake1,yPosToTake1)\n",
    "            mask=np.stack([mask]*inputImage.shape[-1],axis=2)\n",
    "            patchData[i] = np.multiply(inputImage, mask)[yCenterPos - yPosToTake:yCenterPos + yPosToTake,\n",
    "                       xCenterPos - xPosToTake:xCenterPos + xPosToTake, :]\n",
    "        elif RFtype==\"gaussian\":\n",
    "            xPosToTake1=np.squeeze(rfTMP[\"stdAzi\"]/xResDeg)\n",
    "            yPosToTake1=np.squeeze(rfTMP[\"stdEle\"]/yResDeg)\n",
    "            mask=np.zeros(shape=inputImage.shape[:-1])\n",
    "            twoDguassian(mask,xCenterPos,yCenterPos,xPosToTake1,yPosToTake1)\n",
    "            mask=np.stack([mask]*inputImage.shape[-1],axis=2)\n",
    "            patchData[i]=np.multiply(inputImage,mask)[yCenterPos - yPosToTake:yCenterPos + yPosToTake,\n",
    "                       xCenterPos - xPosToTake:xCenterPos + xPosToTake, :]\n",
    "\n",
    "        else:\n",
    "            patchData[i] = inputImage[yCenterPos - yPosToTake:yCenterPos + yPosToTake,\n",
    "                       xCenterPos - xPosToTake:xCenterPos + xPosToTake, :]\n",
    "    return patchData\n",
    "\n",
    "\n",
    "def getImageInDegrees(inputImage, monitorSpecifications, viewingDistanceCM):\n",
    "    viewingDistance = viewingDistanceCM / 2.54\n",
    "    yDeg = (math.atan((monitorSpecifications[\"height\"] / 2) / viewingDistance)) * 180 / math.pi\n",
    "    xDeg = (math.atan((monitorSpecifications[\"width\"] / 2) / viewingDistance)) * 180 / math.pi\n",
    "    imageXRes = inputImage.shape[1]\n",
    "    imageYRes = inputImage.shape[0]\n",
    "    if monitorSpecifications[\"xRes\"] != imageXRes or monitorSpecifications[\"yRes\"] != imageYRes:\n",
    "        raise Exception(\"Image resolution does not match monitor resolution\")\n",
    "    xAxisDeg = np.arange(-xDeg, xDeg, (2 * xDeg / imageXRes))[:imageXRes]\n",
    "    yAxisDeg = np.arange(-yDeg, yDeg, (2 * yDeg / imageYRes))[:imageYRes]\n",
    "    return [xAxisDeg, yAxisDeg]\n"
   ]
  },
  {
   "cell_type": "code",
   "execution_count": 9,
   "metadata": {
    "pycharm": {
     "name": "#%%\n"
    }
   },
   "outputs": [],
   "source": [
    "best_electrodes= np.squeeze(np.intersect1d(highRMSElectrodes[:-3],spikeChannels))\n",
    "best_electrode_names=['elec' + str(i+1) for i in best_electrodes]\n",
    "channelPos_names=[str(i) +\", SID 1\" for i in best_electrodes]\n",
    "channelNumber = best_electrodes\n",
    "stimValsToUse = np.array([i for i in range(32)])\n",
    "numStimulus=stimValsToUse.shape[0]\n",
    "numElectrodes=channelNumber.shape[0]"
   ]
  },
  {
   "cell_type": "code",
   "execution_count": 10,
   "metadata": {
    "pycharm": {
     "name": "#%%\n"
    }
   },
   "outputs": [
    {
     "data": {
      "text/plain": "\"\\n# electrodes and spikes\\nanalogChannelString = 'elec11'\\nchannelPos=1\\nchannelNumber = spikeChannels[channelPos]\\nstimValsToUse = np.array([i for i in range(16)])\\nanalysisType = 6\\nfig, ax = plt.subplots(4,4)\\n\\nresult=plotLFPData1Channel(plotHandles=ax.flatten(), channelString=analogChannelString, stimulus_list=stimValsToUse,analysisType=analysisType,**kwargs)\\n\\nplt.show()\\n\\ngammas=[]\\nfor trial in result:\\n    deltaF=trial[1]/trial[0]\\n    fVals=trial[2]\\n    # select gamma band\\n    gammaBand=np.logical_and(fVals>=30, fVals<=80)\\n    deltaF_gamma=deltaF[gammaBand]\\n    gammas.append(np.average(deltaF_gamma))\\nplt.plot(gammas)\\nplt.show()\\n\""
     },
     "execution_count": 10,
     "metadata": {},
     "output_type": "execute_result"
    }
   ],
   "source": [
    "'''\n",
    "# electrodes and spikes\n",
    "analogChannelString = 'elec11'\n",
    "channelPos=1\n",
    "channelNumber = spikeChannels[channelPos]\n",
    "stimValsToUse = np.array([i for i in range(16)])\n",
    "analysisType = 6\n",
    "fig, ax = plt.subplots(4,4)\n",
    "\n",
    "result=plotLFPData1Channel(plotHandles=ax.flatten(), channelString=analogChannelString, stimulus_list=stimValsToUse,analysisType=analysisType,**kwargs)\n",
    "\n",
    "plt.show()\n",
    "\n",
    "gammas=[]\n",
    "for trial in result:\n",
    "    deltaF=trial[1]/trial[0]\n",
    "    fVals=trial[2]\n",
    "    # select gamma band\n",
    "    gammaBand=np.logical_and(fVals>=30, fVals<=80)\n",
    "    deltaF_gamma=deltaF[gammaBand]\n",
    "    gammas.append(np.average(deltaF_gamma))\n",
    "plt.plot(gammas)\n",
    "plt.show()\n",
    "'''\n"
   ]
  },
  {
   "cell_type": "code",
   "execution_count": 11,
   "outputs": [],
   "source": [
    "savepath=folderSourceString+\"\\\\python_data\"\n",
    "reload=False\n",
    "resave=True\n",
    "[imagePatches,imagePatches_e,imagePatches_g,imageFreqs,imageSpikes]=None,None,None,None,None\n",
    "if reload:    # electrodes and spikes\n",
    "\n",
    "    imageFreqs=plotLFPData1Channel(plotHandles=None, channelString=best_electrode_names, stimulus_list=stimValsToUse,analysisType=6,**kwargs)\n",
    "    imageSpikes=plotSpikeData1Channel(plotHandles=None, channelNumber=channelNumber, stimulus_list=stimValsToUse,folderName=folderName,analysisType=2,timeVals=[blRange[0],stRange[-1]],bin_time=50)\n",
    "\n",
    "    if resave:\n",
    "         np.savez_compressed(savepath+\"\\\\freq_and_spikes.npz\",imageFreqs=imageFreqs,imageSpikes=imageSpikes)\n",
    "\n",
    "    imagePatches=plotImageData(fValsToUse=stimValsToUse,channelNumber=channelNumber,colorName='g',\n",
    "                               rawImageFolder=rawImageFolder,rfStats=rfStats,RFtype=None)\n",
    "    if resave:\n",
    "        np.savez_compressed(savepath+\"\\\\image_patches.npz\",imagePatches=imagePatches)\n",
    "    %reset_selective image_patches\n",
    "    imagePatches_e = plotImageData(fValsToUse=stimValsToUse, channelNumber=channelNumber, colorName='g',\n",
    "                                   rawImageFolder=rawImageFolder, rfStats=rfStats, RFtype='ellipse')\n",
    "    if resave:\n",
    "        np.savez_compressed(savepath+\"\\\\image_patches_e.npz\",imagePatches_e=imagePatches_e)\n",
    "    %reset_selective image_patches_e\n",
    "    imagePatches_g = plotImageData(fValsToUse=stimValsToUse, channelNumber=channelNumber, colorName='g',\n",
    "                               rawImageFolder=rawImageFolder, rfStats=rfStats, RFtype='gaussian')\n",
    "    if resave:\n",
    "        np.savez_compressed(savepath+\"\\\\image_patches_g.npz\",imagePatches_g=imagePatches_g)\n",
    "    %reset_selective image_patches_g\n"
   ],
   "metadata": {
    "collapsed": false,
    "pycharm": {
     "name": "#%%\n"
    }
   }
  },
  {
   "cell_type": "code",
   "execution_count": 12,
   "outputs": [],
   "source": [
    "# import frequencies and spikes\n",
    "spikes_freqs=np.load(savepath + \"\\\\freq_and_spikes.npz\", allow_pickle=True)\n",
    "imageFreqs=spikes_freqs[\"imageFreqs\"]\n",
    "imageSpikes=spikes_freqs[\"imageSpikes\"]\n",
    "#import elipitical image patches\n",
    "imagePatches_e=np.load(savepath+\"\\\\image_patches_e.npz\",allow_pickle=True)[\"imagePatches_e\"]"
   ],
   "metadata": {
    "collapsed": false,
    "pycharm": {
     "name": "#%%\n"
    }
   }
  },
  {
   "cell_type": "markdown",
   "source": [
    "# Data is loaded, Now to predict\n"
   ],
   "metadata": {
    "collapsed": false,
    "pycharm": {
     "name": "#%% md\n"
    }
   }
  },
  {
   "cell_type": "code",
   "execution_count": 13,
   "outputs": [],
   "source": [
    "#Lets now find the average RGB and amplitude values of each of the image patches\n",
    "\n",
    "def getAverageRGB(imagePatches):\n",
    "    numStimulus=imagePatches.shape[0]\n",
    "    numElectrodes=imagePatches[0].shape[0]\n",
    "    imageAverageRGB=np.zeros((numStimulus,numElectrodes,4),dtype=np.float32)\n",
    "    for i in range (numStimulus):\n",
    "        for j in range(numElectrodes):\n",
    "            for k in range(3):\n",
    "                matrix=imagePatches_e[i][j][:,:,k]\n",
    "                imageAverageRGB[i][j][k]=np.true_divide(matrix.sum(),(matrix!=0).sum())\n",
    "            imageAverageRGB[i][j][3]=np.average(imageAverageRGB[i][j][:3])\n",
    "    return imageAverageRGB\n",
    "def getstddeveRGB(imagePatches):\n",
    "    numStimulus=imagePatches.shape[0]\n",
    "    numElectrodes=imagePatches[0].shape[0]\n",
    "    imageAverageRGB=np.zeros((numStimulus,numElectrodes,4),dtype=np.float32)\n",
    "    for i in range (numStimulus):\n",
    "        for j in range(numElectrodes):\n",
    "            ind=np.average(imagePatches[i][j],axis=-1)!=0\n",
    "            for k in range(3):\n",
    "                imageAverageRGB[i][j][k]=np.std(imagePatches[i][j][:,:,k][ind])\n",
    "            imageAverageRGB[i][j][3]=np.std(np.average(imagePatches[i][j],axis=-1)[ind])\n",
    "    return imageAverageRGB\n",
    "image_e_averageRGB=None\n",
    "image_e_stdRGB=None\n",
    "reload2=True\n",
    "if reload2:\n",
    "    image_e_averageRGB=getAverageRGB(imagePatches_e)\n",
    "    image_e_stdRGB=getstddeveRGB(imagePatches_e)\n",
    "    np.savez_compressed(savepath+\"\\\\image_averages.npz\",image_e_averageRGB=image_e_averageRGB,image_e_stdRGB=image_e_stdRGB)\n",
    "else:\n",
    "    image_e_averageRGB=np.load(savepath+\"\\\\image_averages.npz\",allow_pickle=True)[\"image_e_averageRGB\"]\n",
    "    image_e_stdRGB=np.load(savepath+\"\\\\image_averages.npz\",allow_pickle=True)[\"image_e_stdRGB\"]"
   ],
   "metadata": {
    "collapsed": false,
    "pycharm": {
     "name": "#%%\n"
    }
   }
  },
  {
   "cell_type": "code",
   "execution_count": 14,
   "outputs": [],
   "source": [
    "f_baseline=np.array(np.average(imageFreqs[:,:,0],axis=0))\n",
    "f_stimulus=np.array(imageFreqs[:,:,1])\n",
    "f_values=np.array(imageFreqs[0][0][2].astype(int))\n",
    "@njit(parallel=True)\n",
    "def get_power_at_driver(return_values, base, stim, indices):\n",
    "    for i in prange(stim.shape[0]):\n",
    "            for j in prange(stim.shape[1]):\n",
    "                return_values[i][j]=np.sum(stim[i][j][indices] / base[j][indices])\n",
    "\n",
    "def get_power_at(stim,base,f_values,f):\n",
    "    f_max=max(f)\n",
    "    f_min=min(f)\n",
    "    indices=np.argwhere(np.logical_and(f_values>=f_min,f_values<=f_max)).flatten()\n",
    "    return_value=np.zeros(stim.shape[:2])\n",
    "    get_power_at_driver(return_value,base,stim,indices)\n",
    "    return return_value\n",
    "\n",
    "f_dict={'f_4':[4],'f_8':[8],'f_12':[12],'f_beta':[13,30],'f_gamma':[30,80],'f_gamma_high':[80,200],'f_fast':[200,1000]}\n",
    "image_f_vals=np.zeros((imageFreqs.shape[0],imageFreqs.shape[1],len(f_dict)))\n",
    "for i,fvals in enumerate(f_dict.values()):\n",
    "    image_f_vals[:,:,i]=get_power_at(f_stimulus,f_baseline,f_values,fvals)"
   ],
   "metadata": {
    "collapsed": false,
    "pycharm": {
     "name": "#%%\n"
    }
   }
  },
  {
   "cell_type": "code",
   "execution_count": 15,
   "outputs": [],
   "source": [
    "spike_bin_times=imageSpikes[0][0][1]\n",
    "early_stim_onset=np.argwhere(spike_bin_times>=0)[0][0]\n",
    "late_stim_onset=np.argwhere(spike_bin_times>=0.25)[0][0]\n",
    "\n",
    "spike_bl_mean=np.average(imageSpikes[:,:,0,:early_stim_onset],axis=(0,-1))\n",
    "spike_bl_std=np.std(imageSpikes[:,:,0,:early_stim_onset],axis=(0,-1))\n",
    "spike_stim_mean=np.stack([np.average(imageSpikes[:,:,0,early_stim_onset:late_stim_onset],axis=-1),np.average(imageSpikes[:,:,0,late_stim_onset:],axis=-1)],axis=-1)\n",
    "spike_stim_std=np.stack([np.std(imageSpikes[:,:,0,early_stim_onset:late_stim_onset],axis=-1),np.std(imageSpikes[:,:,0,late_stim_onset:],axis=-1)],axis=-1)\n",
    "\n",
    "for j in range(numStimulus):\n",
    "    spike_stim_mean[j,:,0]/=spike_bl_mean\n",
    "    spike_stim_std[j,:,0]/=spike_bl_std\n"
   ],
   "metadata": {
    "collapsed": false,
    "pycharm": {
     "name": "#%%\n"
    }
   }
  },
  {
   "cell_type": "code",
   "execution_count": 16,
   "outputs": [],
   "source": [
    "def get_entropies(imageFreqs,f_values):\n",
    "    numStimulus=imageFreqs.shape[0]\n",
    "    numElectrodes=imageFreqs.shape[1]\n",
    "    index_80=np.argwhere(f_values==80)[0][0]\n",
    "    f_baseline_80=np.array(np.average(imageFreqs[:,:,0,:index_80],axis=0))\n",
    "    f_stimulus_80=np.array(imageFreqs[:,:,1,:index_80])\n",
    "    entropies=np.zeros((numStimulus,numElectrodes,3))\n",
    "    for i in range(numStimulus):\n",
    "        for j in range(numElectrodes):\n",
    "            entropies[i][j][0]=ent.svd_entropy(f_stimulus_80[i][j])/ent.svd_entropy(f_baseline_80[j])\n",
    "            entropies[i][j][1]=ent.hjorth_params(f_stimulus_80[i][j])[1]/ent.hjorth_params(f_baseline_80[j])[1]\n",
    "            entropies[i][j][2]=ent.katz_fd(f_stimulus_80[i][j])/ent.katz_fd(f_baseline_80[j])\n",
    "    return entropies\n",
    "image_entropies=get_entropies(imageFreqs,f_values)"
   ],
   "metadata": {
    "collapsed": false,
    "pycharm": {
     "name": "#%%\n"
    }
   }
  },
  {
   "cell_type": "markdown",
   "source": [
    "# Neural Net\n"
   ],
   "metadata": {
    "collapsed": false,
    "pycharm": {
     "name": "#%% md\n"
    }
   }
  },
  {
   "cell_type": "code",
   "execution_count": 61,
   "outputs": [],
   "source": [
    "class network(nn.Module):\n",
    "    def __init__(self,input_size,hidden_size,output_size):\n",
    "        super(network,self).__init__()\n",
    "        self.fc1=nn.Linear(input_size,hidden_size,bias=True)\n",
    "        nn.init.xavier_uniform_(self.fc1.weight)\n",
    "        self.fc2=nn.Linear(hidden_size,output_size)\n",
    "        nn.init.xavier_uniform_(self.fc2.weight)\n",
    "    def forward(self,x):\n",
    "        x=F.relu(self.fc1(x))\n",
    "        x=F.sigmoid(self.fc2(x))\n",
    "        return x\n"
   ],
   "metadata": {
    "collapsed": false,
    "pycharm": {
     "name": "#%%\n"
    }
   }
  },
  {
   "cell_type": "code",
   "execution_count": 57,
   "outputs": [],
   "source": [
    "def combine_dims(a, start=0, count=2):\n",
    "    \"\"\" Reshapes numpy array a by combining count dimensions,\n",
    "        starting at dimension index start \"\"\"\n",
    "    s = a.shape\n",
    "    return np.reshape(a, s[:start] + (-1,) + s[start+count:])\n",
    "input_to_nn=combine_dims(np.concatenate((image_f_vals,spike_stim_mean,spike_stim_std,image_entropies),axis=2))\n",
    "for i in range(input_to_nn.shape[-1]):\n",
    "    input_to_nn[:,i]/=np.average(input_to_nn[:,i])\n",
    "    input_to_nn-=1\n",
    "\n",
    "output_to_nn=combine_dims(np.concatenate((image_e_averageRGB[:,:,:3],np.reshape(image_e_stdRGB[:,:,3]/image_e_averageRGB[:,:,3],(image_e_averageRGB.shape[0],image_e_averageRGB.shape[1],1))),axis=2))\n"
   ],
   "metadata": {
    "collapsed": false,
    "pycharm": {
     "name": "#%%\n"
    }
   }
  },
  {
   "cell_type": "code",
   "execution_count": 58,
   "outputs": [],
   "source": [
    "\n",
    "random.seed(1)\n",
    "train_indices=random.sample(range(input_to_nn.shape[0]),int(input_to_nn.shape[0]*0.8))\n",
    "test_indices=np.setdiff1d(range(input_to_nn.shape[0]),train_indices)\n",
    "train_input=t.tensor(input_to_nn[train_indices,:]).float()\n",
    "train_output=t.tensor(output_to_nn[train_indices,:]).float()\n",
    "test_input=t.tensor(input_to_nn[test_indices,:]).float()\n",
    "test_output=t.tensor(output_to_nn[test_indices,:]).float()"
   ],
   "metadata": {
    "collapsed": false,
    "pycharm": {
     "name": "#%%\n"
    }
   }
  },
  {
   "cell_type": "code",
   "execution_count": 62,
   "outputs": [
    {
     "name": "stderr",
     "output_type": "stream",
     "text": [
      "D:\\CODING\\projectEnvSummer\\lib\\site-packages\\torch\\nn\\functional.py:1960: UserWarning: nn.functional.sigmoid is deprecated. Use torch.sigmoid instead.\n",
      "  warnings.warn(\"nn.functional.sigmoid is deprecated. Use torch.sigmoid instead.\")\n"
     ]
    },
    {
     "name": "stdout",
     "output_type": "stream",
     "text": [
      "Epoch:  0  Loss:  0.7064535617828369\n",
      "Epoch:  2000  Loss:  0.27907389402389526\n",
      "Epoch:  4000  Loss:  0.16753315925598145\n",
      "Epoch:  6000  Loss:  0.10052469372749329\n",
      "Epoch:  8000  Loss:  0.06237415224313736\n",
      "Epoch:  10000  Loss:  0.04942242428660393\n",
      "Epoch:  12000  Loss:  0.048867370933294296\n",
      "Epoch:  14000  Loss:  0.04879016429185867\n",
      "Epoch:  16000  Loss:  0.0487435907125473\n",
      "Epoch:  18000  Loss:  0.04870595037937164\n"
     ]
    },
    {
     "data": {
      "text/plain": "tensor(0.0429, grad_fn=<MseLossBackward0>)"
     },
     "execution_count": 62,
     "metadata": {},
     "output_type": "execute_result"
    }
   ],
   "source": [
    "net=network(input_to_nn.shape[-1],9,output_to_nn.shape[-1])\n",
    "optimizer = optim.SGD(net.parameters(), lr=0.005)\n",
    "num_epochs = 20000\n",
    "lambda1 = 0.01\n",
    "criterion = nn.MSELoss()\n",
    "losses=np.zeros(num_epochs//1000)\n",
    "for epoch in range(20000):\n",
    "    optimizer.zero_grad()\n",
    "    outpt = net(train_input)\n",
    "    lin_params = t.cat([x.view(-1) for x in net.fc1.parameters()])\n",
    "    loss = criterion(outpt, train_output) + lambda1 * t.linalg.norm(lin_params, ord=1)\n",
    "    loss.backward()\n",
    "    optimizer.step()\n",
    "    if epoch % 1000 == 0:\n",
    "        losses[epoch//1000]=loss.item()\n",
    "        if epoch % 2000 == 0:\n",
    "            print('Epoch: ', epoch, ' Loss: ', loss.item())\n",
    "\n",
    "criterion(net(test_input),test_output)\n"
   ],
   "metadata": {
    "collapsed": false,
    "pycharm": {
     "name": "#%%\n"
    }
   }
  },
  {
   "cell_type": "code",
   "execution_count": 63,
   "outputs": [],
   "source": [
    "aaaoh=net(test_input).detach().numpy()\n",
    "aaaohh=test_output.detach().numpy()"
   ],
   "metadata": {
    "collapsed": false,
    "pycharm": {
     "name": "#%%\n"
    }
   }
  },
  {
   "cell_type": "code",
   "execution_count": null,
   "outputs": [],
   "source": [],
   "metadata": {
    "collapsed": false,
    "pycharm": {
     "name": "#%%\n"
    }
   }
  },
  {
   "cell_type": "code",
   "execution_count": null,
   "outputs": [],
   "source": [],
   "metadata": {
    "collapsed": false,
    "pycharm": {
     "name": "#%%\n"
    }
   }
  }
 ],
 "metadata": {
  "kernelspec": {
   "name": "projectenvsummer",
   "language": "python",
   "display_name": "projectEnvSummer"
  },
  "language_info": {
   "codemirror_mode": {
    "name": "ipython",
    "version": 3
   },
   "file_extension": ".py",
   "mimetype": "text/x-python",
   "name": "python",
   "nbconvert_exporter": "python",
   "pygments_lexer": "ipython3",
   "version": "3.9.0"
  }
 },
 "nbformat": 4,
 "nbformat_minor": 1
}