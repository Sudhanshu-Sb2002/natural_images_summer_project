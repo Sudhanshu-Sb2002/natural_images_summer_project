{
 "cells": [
  {
   "cell_type": "code",
   "execution_count": 30,
   "metadata": {
    "collapsed": true
   },
   "outputs": [],
   "source": [
    "import scipy.io as sio\n",
    "import numpy as np\n",
    "import mat73\n",
    "import sklearn.cluster as  Clusterer\n",
    "from sklearn.metrics import silhouette_score\n",
    "from pyentrp import entropy as ent\n",
    "import antropy as ant\n",
    "import matplotlib.pyplot as plt\n",
    "from PIL import Image\n",
    "from IPython.display import display"
   ]
  },
  {
   "cell_type": "markdown",
   "source": [
    "## INPUT"
   ],
   "metadata": {
    "collapsed": false,
    "pycharm": {
     "name": "#%% md\n"
    }
   }
  },
  {
   "cell_type": "code",
   "execution_count": 3,
   "outputs": [],
   "source": [
    "def take_input(path):\n",
    "    rawdata = mat73.loadmat(path)\n",
    "\n",
    "    st = rawdata['stPwrLfpTex'].astype(np.float32)\n",
    "    bl = rawdata['blPwrLfpTex'].astype(np.float32)\n",
    "    freq = rawdata['freqVals'].astype(np.float32)\n",
    "    electrode_names = rawdata['LFPElectrodes'].astype(np.int64)\n",
    "\n",
    "    return st, bl, freq, electrode_names\n",
    "\n",
    "path = \"D:\\\\OneDrive - Indian Institute of Science\\\\5th Sem\\\\Summer project\\\\Data\\\\simple_data_v1\\\\textureColorStimuliPowerSp_alpaH_st_250_500_bl_-250_0_summerProject.mat\"\n",
    "st, bl, freq, electrode_names = take_input(path)\n",
    "change_in_power = np.zeros(shape=st.shape)\n",
    "for i in range(st.shape[1]):\n",
    "    change_in_power[:, i] = st[:, i] - bl\n",
    "# array is reshaped so that first dimension is an image,second is frequency, third is electrode\n",
    "change_in_power = np.transpose(change_in_power, (1, 2, 0))"
   ],
   "metadata": {
    "collapsed": false,
    "pycharm": {
     "name": "#%%\n"
    }
   }
  },
  {
   "cell_type": "markdown",
   "source": [
    "## Functions to calculate Entropies and Clustering"
   ],
   "metadata": {
    "collapsed": false,
    "pycharm": {
     "name": "#%% md\n"
    }
   }
  },
  {
   "cell_type": "code",
   "execution_count": 4,
   "outputs": [],
   "source": [
    "def information(data, freq):\n",
    "    # The input data is 2d samples*features, the goal is is to find the informational content of each feature\n",
    "    entropies = np.zeros(shape=(3, data.shape[1]))\n",
    "    for i in range(entropies.shape[1]):\n",
    "        entropies[0][i] = ant.perm_entropy(data[:, i], normalize=True)\n",
    "        entropies[1][i] = ant.app_entropy(data[:, i])\n",
    "        entropies[2][i] = ant.svd_entropy(data[:, i])\n",
    "    for i in range(len(entropies)):\n",
    "        plt.plot(freq, entropies[i])\n",
    "    plt.grid(which='both')\n",
    "    plt.legend([\"Permutation Entropy\",\"Approximate Entropy\",\" SVD Entropy\"])\n",
    "    plt.show()"
   ],
   "metadata": {
    "collapsed": false,
    "pycharm": {
     "name": "#%%\n"
    }
   }
  },
  {
   "cell_type": "code",
   "execution_count": 23,
   "outputs": [],
   "source": [
    "def cluster_grapher(k_vals, score_vals, name):\n",
    "    # here we graph the scores for different values of k\n",
    "    plt.plot(k_vals, score_vals)\n",
    "    plt.grid(which='both')\n",
    "    plt.title(name)\n",
    "    plt.xlabel(\"No of Clusters\")\n",
    "    plt.ylabel(\"silhouette_score\")\n",
    "    plt.show()\n",
    "\n",
    "def printer(kmeans_obj, score):\n",
    "    print(round(score, 3), kmeans_obj.n_clusters, kmeans_obj.labels_)\n",
    "\n",
    "def kmeans_best_k(data,show=False):\n",
    "    if len(data.shape) > 2:\n",
    "        data = np.reshape(data, (data.shape[0], data.shape[1] * data.shape[2]))\n",
    "    best_kmeans = None\n",
    "    best_score = 0\n",
    "    k_vals = range(2, 6)\n",
    "    score_vals = np.zeros(len(k_vals))\n",
    "\n",
    "    for no_clusters in k_vals:\n",
    "        kmeans = Clusterer.KMeans(n_clusters=no_clusters).fit(data)\n",
    "        labels = kmeans.labels_\n",
    "        score = silhouette_score(data, labels)\n",
    "        score_vals[no_clusters - 2] = score\n",
    "        # print(no_clusters, np.bincount(labels), score, kmeans.inertia_)\n",
    "        if score > best_score:\n",
    "            best_kmeans = kmeans\n",
    "            best_score = score\n",
    "    print(\"k_means\",end='\\t')\n",
    "    printer(best_kmeans, best_score)\n",
    "    if show:\n",
    "        cluster_grapher(k_vals, score_vals, \"KMeans\")\n",
    "    \"\"\"bandwidth = Clusterer.estimate_bandwidth(data, quantile=0.2, n_samples=500)\n",
    "    meanshift = Clusterer.MeanShift(bandwidth=bandwidth, bin_seeding=True).fit(data)\n",
    "    labels = meanshift.labels_\n",
    "    score = silhouette_score(data, labels)\n",
    "    printer(meanshift, score)\"\"\"\n",
    "\n",
    "    return best_kmeans, best_score\n",
    "\n",
    "def agglomerative_bestk(data,show=False):\n",
    "    if len(data.shape) > 2:\n",
    "        data = np.reshape(data, (data.shape[0], data.shape[1] * data.shape[2]))\n",
    "    best_agglomerative = None\n",
    "    best_score_agglomerative = 0\n",
    "    k_vals = range(2, 6)\n",
    "    score_vals = np.zeros(len(k_vals))\n",
    "    for no_clusters in k_vals:\n",
    "        clustering = Clusterer.AgglomerativeClustering(n_clusters=no_clusters).fit(data)\n",
    "        labels_agglomerative = clustering.labels_\n",
    "        score_agglomerative = silhouette_score(data, labels_agglomerative)\n",
    "        score_vals[no_clusters - 2] = score_agglomerative\n",
    "        # print(no_clusters, np.bincount(labels), score, kmeans.inertia_)\n",
    "        if score_agglomerative > best_score_agglomerative:\n",
    "            best_agglomerative = clustering\n",
    "            best_score_agglomerative = score_agglomerative\n",
    "    print(\"k_means\",end='\\t')\n",
    "    printer(best_agglomerative, best_score_agglomerative)\n",
    "    if show:\n",
    "        cluster_grapher(k_vals, score_vals, \"Agglomerative\")\n",
    "    return best_agglomerative, best_score_agglomerative\n",
    "\n",
    "def clustering_function(data,*,show=False):\n",
    "    kmeans_obj, score = kmeans_best_k(data,show)\n",
    "    aggl_obj,score=agglomerative_bestk(data,show)\n",
    "    print(\"-\\t-\\t-\\t-\\n\")\n",
    "    return kmeans_obj,aggl_obj\n"
   ],
   "metadata": {
    "collapsed": false,
    "pycharm": {
     "name": "#%%\n"
    }
   }
  },
  {
   "cell_type": "markdown",
   "source": [],
   "metadata": {
    "collapsed": false
   }
  },
  {
   "cell_type": "markdown",
   "source": [
    "### Clustering the entire data"
   ],
   "metadata": {
    "collapsed": false,
    "pycharm": {
     "name": "#%% md\n"
    }
   }
  },
  {
   "cell_type": "code",
   "execution_count": 24,
   "outputs": [
    {
     "name": "stdout",
     "output_type": "stream",
     "text": [
      "k_means\t0.344 2 [0 0 0 1 1 0 0 1 0 0 0 0 0 0 0 0]\n",
      "k_means\t0.344 2 [0 0 0 1 1 0 0 1 0 0 0 0 0 0 0 0]\n",
      "-\t-\t-\t-\n",
      "\n",
      "k_means\t0.582 2 [0 0 0 1 1 0 0 1 0 0 0 1 0 0 0 0]\n",
      "k_means\t0.582 2 [0 0 0 1 1 0 0 1 0 0 0 1 0 0 0 0]\n",
      "-\t-\t-\t-\n",
      "\n"
     ]
    },
    {
     "data": {
      "text/plain": "(KMeans(n_clusters=2), AgglomerativeClustering())"
     },
     "execution_count": 24,
     "metadata": {},
     "output_type": "execute_result"
    }
   ],
   "source": [
    "clustering_function(change_in_power)\n",
    "\n",
    "# now we take the average of electrodes and then we cluster the average\n",
    "average_change_in_power = np.mean(change_in_power, axis=2)\n",
    "clustering_function(average_change_in_power)"
   ],
   "metadata": {
    "collapsed": false,
    "pycharm": {
     "name": "#%%\n"
    }
   }
  },
  {
   "cell_type": "markdown",
   "source": [
    "### Finding the Information per frequency"
   ],
   "metadata": {
    "collapsed": false,
    "pycharm": {
     "name": "#%% md\n"
    }
   }
  },
  {
   "cell_type": "code",
   "execution_count": 25,
   "outputs": [
    {
     "data": {
      "text/plain": "<Figure size 432x288 with 1 Axes>",
      "image/png": "[encoded data removed]"
     },
     "metadata": {
      "needs_background": "light"
     },
     "output_type": "display_data"
    }
   ],
   "source": [
    "information(average_change_in_power, freq)"
   ],
   "metadata": {
    "collapsed": false,
    "pycharm": {
     "name": "#%%\n"
    }
   }
  },
  {
   "cell_type": "markdown",
   "source": [
    "### Clustering based on Gamma frequency"
   ],
   "metadata": {
    "collapsed": false,
    "pycharm": {
     "name": "#%% md\n"
    }
   }
  },
  {
   "cell_type": "code",
   "execution_count": 26,
   "outputs": [
    {
     "name": "stdout",
     "output_type": "stream",
     "text": [
      "k_means\t0.568 2 [0 0 1 0 0 1 0 0 0 0 0 0 0 0 0 0]\n",
      "k_means\t0.521 2 [1 1 0 1 1 0 1 0 1 1 1 1 1 1 1 1]\n",
      "-\t-\t-\t-\n",
      "\n",
      "k_means\t0.699 2 [1 1 0 1 1 0 1 1 1 1 1 1 1 1 1 1]\n"
     ]
    },
    {
     "data": {
      "text/plain": "<Figure size 432x288 with 1 Axes>",
      "image/png": "[encoded data removed]"
     },
     "metadata": {
      "needs_background": "light"
     },
     "output_type": "display_data"
    },
    {
     "name": "stdout",
     "output_type": "stream",
     "text": [
      "k_means\t0.669 2 [1 1 0 1 1 0 1 0 1 1 1 1 1 1 1 1]\n"
     ]
    },
    {
     "data": {
      "text/plain": "<Figure size 432x288 with 1 Axes>",
      "image/png": "[encoded data removed]"
     },
     "metadata": {
      "needs_background": "light"
     },
     "output_type": "display_data"
    },
    {
     "name": "stdout",
     "output_type": "stream",
     "text": [
      "-\t-\t-\t-\n",
      "\n"
     ]
    },
    {
     "data": {
      "text/plain": "(KMeans(n_clusters=2), AgglomerativeClustering())"
     },
     "execution_count": 26,
     "metadata": {},
     "output_type": "execute_result"
    }
   ],
   "source": [
    "# based on this we say the most information is located in the  30-80  frequency band\n",
    "# now we only take informative band i.e frequencies around 30-80hz which is the gamma band\n",
    "\n",
    "gamma_band_change_in_power = change_in_power[:, np.logical_and(freq >= 30, freq <= 80), :]\n",
    "clustering_function(gamma_band_change_in_power)\n",
    "\n",
    "# now we only take gamma band i.e frequencies between 30-80Hz for average\n",
    "gamma_band_change_in_power_avg = np.mean(gamma_band_change_in_power, axis=2)\n",
    "clustering_function(gamma_band_change_in_power_avg,show=True)"
   ],
   "metadata": {
    "collapsed": false,
    "pycharm": {
     "name": "#%%\n"
    }
   }
  },
  {
   "cell_type": "markdown",
   "source": [
    "## Visualising all images"
   ],
   "metadata": {
    "collapsed": false,
    "pycharm": {
     "name": "#%% md\n"
    }
   }
  },
  {
   "cell_type": "code",
   "execution_count": 32,
   "outputs": [],
   "source": [
    "path=\"D:\\\\OneDrive - Indian Institute of Science\\\\5th Sem\\\\Summer project\\\\Data\\\\simple_data_v1\\\\RGB_texture_images.mat\"\n",
    "raw_image_data = mat73.loadmat(path)\n",
    "raw_images =(raw_image_data[\"images\"]*255).astype(np.uint8)\n",
    "\n",
    "for i in range (len(raw_images)):\n",
    "    img = Image.fromarray(raw_images[i],'RGB')\n",
    "    #display(img.show())"
   ],
   "metadata": {
    "collapsed": false,
    "pycharm": {
     "name": "#%%\n"
    }
   }
  },
  {
   "cell_type": "code",
   "execution_count": null,
   "outputs": [],
   "source": [],
   "metadata": {
    "collapsed": false,
    "pycharm": {
     "name": "#%%\n"
    }
   }
  }
 ],
 "metadata": {
  "kernelspec": {
   "display_name": "Python 3",
   "language": "python",
   "name": "python3"
  },
  "language_info": {
   "codemirror_mode": {
    "name": "ipython",
    "version": 2
   },
   "file_extension": ".py",
   "mimetype": "text/x-python",
   "name": "python",
   "nbconvert_exporter": "python",
   "pygments_lexer": "ipython2",
   "version": "2.7.6"
  }
 },
 "nbformat": 4,
 "nbformat_minor": 0
}