{
 "cells": [
  {
   "cell_type": "code",
   "execution_count": 15,
   "metadata": {
    "collapsed": true,
    "pycharm": {
     "name": "#%%\n"
    }
   },
   "outputs": [],
   "source": [
    "import scipy.integrate as integrate\n",
    "import numpy as np\n",
    "import matplotlib.pyplot as plt\n",
    "import matplotlib.animation as animation\n",
    "from numba import njit\n",
    "\n",
    "c = 0.0256 *20/10**-4\n",
    "a = (1 * 20 + 0.04 * 440) / 1000\n",
    "b = (1 * 20 + 0.04 * 50) / 1000\n",
    "p_x = 0.5\n",
    "y = 500 / 1000\n",
    "x_0 = 50 / 1000"
   ]
  },
  {
   "cell_type": "code",
   "execution_count": 17,
   "outputs": [
    {
     "data": {
      "text/plain": "<Figure size 432x288 with 1 Axes>",
      "image/png": "[encoded data removed]"
     },
     "metadata": {
      "needs_background": "light"
     },
     "output_type": "display_data"
    },
    {
     "data": {
      "text/plain": "<Figure size 432x288 with 1 Axes>",
      "image/png": "[encoded data removed]"
     },
     "metadata": {
      "needs_background": "light"
     },
     "output_type": "display_data"
    }
   ],
   "source": [
    "\n",
    "\n",
    "@njit\n",
    "def func(t, x):\n",
    "    inside = (a + p_x * y) / (b + p_x * x) * x / y\n",
    "    return -c * np.log(inside)\n",
    "\n",
    "@njit\n",
    "def range_kutta(func, xvals, tvals):\n",
    "    t = tvals[0]\n",
    "    x = xvals[0]\n",
    "    h = tvals[1] - tvals[0]\n",
    "    for i in range(len(tvals) - 1):\n",
    "        k1 = h * func(t, x)\n",
    "        k2 = h * func(t + h / 2, x + k1 / 2)\n",
    "        k3 = h * func(t + h / 2, x + k2 / 2)\n",
    "        k4 = h * func(t + h, x + k3)\n",
    "        x += (k1 + 2 * k2 + 2 * k3 + k4) / 6\n",
    "        t = tvals[i + 1]\n",
    "        xvals[i + 1] = x\n",
    "    return xvals\n",
    "@njit\n",
    "def V(x):\n",
    "    return 0.0256 * np.log((a + p_x * y) / y * np.divide(x, (b + p_x * x)))\n",
    "\n",
    "    # initial conditions\n",
    "t_min=0\n",
    "t_max=0.01\n",
    "n_times=10000\n",
    "tvals = np.linspace(t_min, t_max, n_times)\n",
    "xvals = np.zeros(n_times)\n",
    "xvals[0] = x_0\n",
    "xvals = range_kutta(func, xvals, tvals)\n",
    "plt.plot(tvals, xvals)\n",
    "plt.show()\n",
    "\n",
    "\n",
    "plt.plot(tvals, V(xvals))\n",
    "plt.show()"
   ],
   "metadata": {
    "collapsed": false,
    "pycharm": {
     "name": "#%%\n"
    }
   }
  },
  {
   "cell_type": "code",
   "execution_count": 16,
   "outputs": [],
   "source": [
    "\n"
   ],
   "metadata": {
    "collapsed": false,
    "pycharm": {
     "name": "#%%\n"
    }
   }
  }
 ],
 "metadata": {
  "kernelspec": {
   "display_name": "Python 3",
   "language": "python",
   "name": "python3"
  },
  "language_info": {
   "codemirror_mode": {
    "name": "ipython",
    "version": 2
   },
   "file_extension": ".py",
   "mimetype": "text/x-python",
   "name": "python",
   "nbconvert_exporter": "python",
   "pygments_lexer": "ipython2",
   "version": "2.7.6"
  }
 },
 "nbformat": 4,
 "nbformat_minor": 0
}